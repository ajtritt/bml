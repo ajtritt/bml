{
 "cells": [
  {
   "cell_type": "code",
   "execution_count": 1,
   "id": "8de9fedc-848d-4c11-b18e-e946bec8f843",
   "metadata": {},
   "outputs": [],
   "source": [
    "import matplotlib.pyplot as plt\n",
    "import numpy as np\n",
    "import glob\n",
    "import matplotlib.colors as mpc\n",
    "import os\n",
    "import yt\n",
    "import tqdm\n",
    "import re\n",
    "import pandas as pd\n",
    "import sklearn.gaussian_process as gp\n"
   ]
  },
  {
   "cell_type": "code",
   "execution_count": 2,
   "id": "3500f8df-9d9a-47eb-b39d-41927154dd92",
   "metadata": {},
   "outputs": [],
   "source": [
    "outputs_dir = \"MD_outputs\"\n",
    "if not os.path.exists(outputs_dir):\n",
    "    os.makedirs(outputs_dir)\n",
    "os.chdir(outputs_dir)"
   ]
  },
  {
   "cell_type": "code",
   "execution_count": 3,
   "id": "ac6d2a3f-6261-4d56-901d-0534ab8a544b",
   "metadata": {
    "tags": []
   },
   "outputs": [],
   "source": [
    "def calculate_values(ad, V_app, inputs):\n",
    "    shape = tuple(inputs['n_cell'][:-1])\n",
    "    \n",
    "    if not shape == (64, 64):\n",
    "        raise ValueError(f\"Expected xy dimensions of (64, 64), got {shape}\")\n",
    "    \n",
    "    P_array = ad['Pz'].to_ndarray().reshape(ad.ds.domain_dimensions)\n",
    "    Phi_array = ad['Phi'].to_ndarray().reshape(ad.ds.domain_dimensions)\n",
    "    Ez_array = ad['Ez'].to_ndarray().reshape(ad.ds.domain_dimensions)\n",
    "\n",
    "    idx_fede_lo = 20        # int(inputs['FE_lo'] / inputs['dz'])\n",
    "    idx_fede_hi = 21        # idx_fede_lo + 1\n",
    "    idx_sc_hi = 19          # int(inputs['SC_hi'] / inputs['dz']) - 1\n",
    "    l = inputs['l']\n",
    "    \n",
    "    epsilon_0 = inputs['epsilon_0']\n",
    "    epsilon_de = inputs['epsilon_de']\n",
    "    \n",
    "    x = np.linspace(inputs['prob_lo'][0], inputs['prob_hi'][0], inputs['n_cell'][0])\n",
    "    \n",
    "    #Calculate V_fe_avg\n",
    "    V_FeDe = 0.5 * (Phi_array[:, :, idx_fede_lo] + Phi_array[:, :, idx_fede_hi])\n",
    "    # V_FeDe = Phi_array[:,:,index_fede_lo]\n",
    "    integral_V = 1 / l * 1 / l * np.trapz(np.trapz(V_FeDe, x), x)\n",
    "    V_fe_avg = V_app - integral_V\n",
    "    \n",
    "    #Calculate Q\n",
    "    Ez_FeDe = 0.5 * (Ez_array[:, :, idx_fede_lo] + Ez_array[:, :, idx_fede_hi])\n",
    "    P_FeDe = 0.5 * (P_array[:, :, idx_fede_lo] + P_array[:, :, idx_fede_hi])\n",
    "    D_FeDe = epsilon_0 * epsilon_de * Ez_FeDe + P_FeDe\n",
    "    Q = -1 / l * 1 / l * np.trapz(np.trapz(D_FeDe, x), x)\n",
    "    \n",
    "    #Calculate Surface potential\n",
    "    V_Sc = Phi_array[:, :, idx_sc_hi]\n",
    "    Phi_S = np.mean(V_Sc)     # Prabhat had this stored in variable xsi\n",
    "    \n",
    "    return V_fe_avg, Q, Phi_S"
   ]
  },
  {
   "cell_type": "code",
   "execution_count": 4,
   "id": "39c0bc39-bb07-432d-8627-c938a3498e31",
   "metadata": {
    "tags": []
   },
   "outputs": [],
   "source": [
    "def read_inputs(tfe_dir):\n",
    "    ret = dict()\n",
    "    with open(f'{tfe_dir}/inputs', 'r') as f:\n",
    "        for line in map(lambda x: x.strip(), f):\n",
    "            if len(line) == 0:\n",
    "                continue\n",
    "            key, val = re.split('\\s*=\\s*', line)\n",
    "            val = [float(_) if '.' in _ or 'e' in _ else int(_) for _ in re.split('\\s+', val)]\n",
    "            if len(val) == 1:\n",
    "                val = val[0]\n",
    "            ret[key] = val\n",
    "    return ret"
   ]
  },
  {
   "cell_type": "code",
   "execution_count": 5,
   "id": "0b6bebb5-ea1d-4abf-843b-4d29e44f7c30",
   "metadata": {
    "tags": []
   },
   "outputs": [],
   "source": [
    "def copy_keys(src, dest):\n",
    "    for k in ('alpha', 'beta', 'gamma', 'g11', 'g44', 'epsilon_de', 'epsilon_si', 'epsilonZ_fe'):\n",
    "        dest[k] = src[k]\n",
    "\n",
    "def get_design_params(inputs):\n",
    "    ret = dict()\n",
    "    ret['L_z_SC'] = inputs['SC_hi'] - inputs['SC_lo']\n",
    "    ret['L_z_DE'] = inputs['DE_hi'] - inputs['DE_lo']\n",
    "    ret['L_z_FE'] = inputs['FE_hi'] - inputs['FE_lo']\n",
    "    ret['L_x'] = inputs['prob_hi'][0] - inputs['prob_lo'][0]\n",
    "    ret['L_y'] = inputs['prob_hi'][1] - inputs['prob_lo'][1]\n",
    "    copy_keys(inputs, ret)\n",
    "    return ret\n",
    "\n",
    "def new_inputs(dp):\n",
    "    inputs = dict()\n",
    "    \n",
    "    inputs['SC_lo'] = 0.0\n",
    "    inputs['SC_hi'] = dp['L_z_SC']\n",
    "    inputs['DE_lo'] = inputs['SC_hi']\n",
    "    inputs['DE_hi'] = inputs['DE_lo'] + dp['L_z_DE']\n",
    "    inputs['FE_lo'] = inputs['DE_hi'] \n",
    "    inputs['FE_hi'] = inputs['FE_lo'] + dp['L_z_FE']\n",
    "    \n",
    "    inputs['prob_lo'] = [-dp['L_x'] / 2, -dp['L_y'] / 2, 0.0]\n",
    "    inputs['prob_hi'] = [ dp['L_x'] / 2,  dp['L_y'] / 2, inputs['FE_hi']]\n",
    "\n",
    "    copy_keys(dp, inputs)\n",
    "    return inputs"
   ]
  },
  {
   "cell_type": "code",
   "execution_count": 6,
   "id": "4d2c6b39-f830-447a-ae4e-d74cfcb16bd8",
   "metadata": {
    "tags": []
   },
   "outputs": [
    {
     "name": "stderr",
     "output_type": "stream",
     "text": [
      "100%|██████████| 7/7 [00:06<00:00,  1.09it/s]\n"
     ]
    }
   ],
   "source": [
    "yt.utilities.logger.set_log_level('warning')\n",
    "\n",
    "data_dir = f\"{os.environ['SCRATCH']}/bml/MD\"\n",
    "\n",
    "all_names = list()\n",
    "all_data = list()\n",
    "tfes = list()\n",
    "\n",
    "it = sorted(glob.glob(f\"{data_dir}/*nm\"))\n",
    "it = tqdm.tqdm(it)\n",
    "\n",
    "all_V_app = list()\n",
    "all_Q = list()\n",
    "all_V_fe_avg = list()\n",
    "all_Phi_S = list()\n",
    "\n",
    "design_params = list()\n",
    "\n",
    "inputs_tmpl = None\n",
    "\n",
    "for tfe_dir in it:\n",
    "    tfes.append(float(tfe_dir[tfe_dir.rfind('/')+1:-2]))\n",
    "    inputs = read_inputs(tfe_dir)\n",
    "    inputs_tmpl = inputs.copy()\n",
    "    inputs.setdefault('l', 32e9)\n",
    "\n",
    "    design_params.append(get_design_params(inputs))\n",
    "    names = list()\n",
    "    data = {'Px': list(), 'Py': list(), 'Pz': list()}\n",
    "    \n",
    "    V_app = list()\n",
    "    Q = list()\n",
    "    V_fe_avg = list()\n",
    "    Phi_S = list()\n",
    "    \n",
    "    for i in sorted(glob.glob(f\"{tfe_dir}/plt*\")):\n",
    "        if 'old' in i:\n",
    "            continue\n",
    "        it = int(i.split('/')[-1][3:])\n",
    "        if not (it > 0 and it % inputs['inc_step'] == 0):\n",
    "            continue\n",
    "        _V_app = ((it // inputs['inc_step']) - 1) / 10\n",
    "        ds = yt.load(i)\n",
    "        name = i[i.find('plt')+3:]\n",
    "        names.append(name)\n",
    "\n",
    "        ad = ds.all_data()\n",
    "        \n",
    "        _V_fe_avg, _Q, _Phi_S = calculate_values(ad, _V_app, inputs)\n",
    "        \n",
    "        V_app.append(_V_app)\n",
    "        Q.append(_Q)\n",
    "        V_fe_avg.append(_V_fe_avg)\n",
    "        Phi_S.append(_Phi_S)\n",
    "        \n",
    "    order = np.argsort(V_app)\n",
    "    all_V_app.append(np.array(V_app)[order])\n",
    "    all_Q.append(np.array(Q)[order])\n",
    "    all_V_fe_avg.append(np.array(V_fe_avg)[order])\n",
    "    all_Phi_S.append(np.array(Phi_S)[order])\n",
    "    \n",
    "order = np.argsort(tfes)\n",
    "\n",
    "design_params = pd.DataFrame(data=design_params).iloc[order]\n",
    "tfe = np.array(tfes)[order]\n",
    "V_app = np.array(all_V_app)[order]\n",
    "Q = np.array(all_Q)[order]\n",
    "V_fe_avg = np.array(all_V_fe_avg)[order]\n",
    "Phi_S = np.array(all_Phi_S)[order]"
   ]
  },
  {
   "cell_type": "code",
   "execution_count": 7,
   "id": "d869dda4-3a61-4725-9a8d-4cfda7048279",
   "metadata": {
    "tags": []
   },
   "outputs": [],
   "source": [
    "dPhiS_dVapp = (np.diff(Phi_S) / np.diff(V_app))"
   ]
  },
  {
   "cell_type": "code",
   "execution_count": 8,
   "id": "f152a0ef-538f-4598-8aa9-e38f8be1513a",
   "metadata": {
    "tags": []
   },
   "outputs": [
    {
     "data": {
      "image/png": "[encoded data removed]",
      "text/plain": [
       "<Figure size 640x480 with 1 Axes>"
      ]
     },
     "metadata": {},
     "output_type": "display_data"
    }
   ],
   "source": [
    "colors = ['red', 'orange', 'yellow', 'green', 'blue', 'lightblue', 'purple']\n",
    "\n",
    "_V_app = V_app[0, 1:]\n",
    "\n",
    "for i in range(len(tfe)):\n",
    "    plt.plot(_V_app, dPhiS_dVapp[i], label=tfes[i])\n",
    "##########\n",
    "\n",
    "plt.legend(title=\"$T_{fe}$\", title_fontsize=12)\n",
    "plt.xlabel(\"$V_{app}$\", fontsize=12)\n",
    "plt.ylabel(\"$d\\phi_S/dV_{app}$\", fontsize=12)\n",
    "plt.savefig(\"dPhiS_dVapp.png\", dpi=100)"
   ]
  },
  {
   "cell_type": "code",
   "execution_count": 9,
   "id": "b254e107-4b1a-4af4-986f-e2b66bc4db19",
   "metadata": {
    "tags": []
   },
   "outputs": [
    {
     "data": {
      "image/png": "[encoded data removed]",
      "text/plain": [
       "<Figure size 640x480 with 1 Axes>"
      ]
     },
     "metadata": {},
     "output_type": "display_data"
    }
   ],
   "source": [
    "colors = ['red', 'orange', 'yellow', 'green', 'blue', 'lightblue', 'purple']\n",
    "\n",
    "for i in range(len(tfe)):\n",
    "    plt.plot(V_app[0], Phi_S[i], label=tfes[i])\n",
    "plt.legend(title=\"$T_{fe}$\", title_fontsize=12)\n",
    "plt.xlabel(\"$V_{app}$\", fontsize=12)\n",
    "plt.ylabel(\"$d\\phi_S/dV_{app}$\", fontsize=12)\n",
    "plt.savefig(\"PhiS_Vapp.png\", dpi=100)"
   ]
  },
  {
   "cell_type": "code",
   "execution_count": 10,
   "id": "3d30a767-88e7-450e-b861-6fa88bb1ac75",
   "metadata": {},
   "outputs": [
    {
     "data": {
      "text/html": [
       "<div>\n",
       "<style scoped>\n",
       "    .dataframe tbody tr th:only-of-type {\n",
       "        vertical-align: middle;\n",
       "    }\n",
       "\n",
       "    .dataframe tbody tr th {\n",
       "        vertical-align: top;\n",
       "    }\n",
       "\n",
       "    .dataframe thead th {\n",
       "        text-align: right;\n",
       "    }\n",
       "</style>\n",
       "<table border=\"1\" class=\"dataframe\">\n",
       "  <thead>\n",
       "    <tr style=\"text-align: right;\">\n",
       "      <th></th>\n",
       "      <th>L_z_SC</th>\n",
       "      <th>L_z_DE</th>\n",
       "      <th>L_z_FE</th>\n",
       "      <th>L_x</th>\n",
       "      <th>L_y</th>\n",
       "      <th>alpha</th>\n",
       "      <th>beta</th>\n",
       "      <th>gamma</th>\n",
       "      <th>g11</th>\n",
       "      <th>g44</th>\n",
       "      <th>epsilon_de</th>\n",
       "      <th>epsilon_si</th>\n",
       "      <th>epsilonZ_fe</th>\n",
       "    </tr>\n",
       "  </thead>\n",
       "  <tbody>\n",
       "    <tr>\n",
       "      <th>0</th>\n",
       "      <td>1.000000e-08</td>\n",
       "      <td>1.000000e-09</td>\n",
       "      <td>2.000000e-09</td>\n",
       "      <td>3.200000e-08</td>\n",
       "      <td>3.200000e-08</td>\n",
       "      <td>-2.500000e+09</td>\n",
       "      <td>6.000000e+10</td>\n",
       "      <td>1.500000e+11</td>\n",
       "      <td>1.000000e-09</td>\n",
       "      <td>1.000000e-09</td>\n",
       "      <td>3.9</td>\n",
       "      <td>11.7</td>\n",
       "      <td>24.0</td>\n",
       "    </tr>\n",
       "    <tr>\n",
       "      <th>1</th>\n",
       "      <td>1.000000e-08</td>\n",
       "      <td>1.000000e-09</td>\n",
       "      <td>2.500000e-09</td>\n",
       "      <td>3.200000e-08</td>\n",
       "      <td>3.200000e-08</td>\n",
       "      <td>-2.500000e+09</td>\n",
       "      <td>6.000000e+10</td>\n",
       "      <td>1.500000e+11</td>\n",
       "      <td>1.000000e-09</td>\n",
       "      <td>1.000000e-09</td>\n",
       "      <td>3.9</td>\n",
       "      <td>11.7</td>\n",
       "      <td>24.0</td>\n",
       "    </tr>\n",
       "    <tr>\n",
       "      <th>2</th>\n",
       "      <td>1.000000e-08</td>\n",
       "      <td>1.000000e-09</td>\n",
       "      <td>3.000000e-09</td>\n",
       "      <td>3.200000e-08</td>\n",
       "      <td>3.200000e-08</td>\n",
       "      <td>-2.500000e+09</td>\n",
       "      <td>6.000000e+10</td>\n",
       "      <td>1.500000e+11</td>\n",
       "      <td>1.000000e-09</td>\n",
       "      <td>1.000000e-09</td>\n",
       "      <td>3.9</td>\n",
       "      <td>11.7</td>\n",
       "      <td>24.0</td>\n",
       "    </tr>\n",
       "    <tr>\n",
       "      <th>3</th>\n",
       "      <td>1.000000e-08</td>\n",
       "      <td>1.000000e-09</td>\n",
       "      <td>3.500000e-09</td>\n",
       "      <td>3.200000e-08</td>\n",
       "      <td>3.200000e-08</td>\n",
       "      <td>-2.500000e+09</td>\n",
       "      <td>6.000000e+10</td>\n",
       "      <td>1.500000e+11</td>\n",
       "      <td>1.000000e-09</td>\n",
       "      <td>1.000000e-09</td>\n",
       "      <td>3.9</td>\n",
       "      <td>11.7</td>\n",
       "      <td>24.0</td>\n",
       "    </tr>\n",
       "    <tr>\n",
       "      <th>4</th>\n",
       "      <td>1.000000e-08</td>\n",
       "      <td>1.000000e-09</td>\n",
       "      <td>4.000000e-09</td>\n",
       "      <td>3.200000e-08</td>\n",
       "      <td>3.200000e-08</td>\n",
       "      <td>-2.500000e+09</td>\n",
       "      <td>6.000000e+10</td>\n",
       "      <td>1.500000e+11</td>\n",
       "      <td>1.000000e-09</td>\n",
       "      <td>1.000000e-09</td>\n",
       "      <td>3.9</td>\n",
       "      <td>11.7</td>\n",
       "      <td>24.0</td>\n",
       "    </tr>\n",
       "    <tr>\n",
       "      <th>5</th>\n",
       "      <td>1.000000e-08</td>\n",
       "      <td>1.000000e-09</td>\n",
       "      <td>4.500000e-09</td>\n",
       "      <td>3.200000e-08</td>\n",
       "      <td>3.200000e-08</td>\n",
       "      <td>-2.500000e+09</td>\n",
       "      <td>6.000000e+10</td>\n",
       "      <td>1.500000e+11</td>\n",
       "      <td>1.000000e-09</td>\n",
       "      <td>1.000000e-09</td>\n",
       "      <td>3.9</td>\n",
       "      <td>11.7</td>\n",
       "      <td>24.0</td>\n",
       "    </tr>\n",
       "    <tr>\n",
       "      <th>6</th>\n",
       "      <td>1.000000e-08</td>\n",
       "      <td>1.000000e-09</td>\n",
       "      <td>5.000000e-09</td>\n",
       "      <td>3.200000e-08</td>\n",
       "      <td>3.200000e-08</td>\n",
       "      <td>-2.500000e+09</td>\n",
       "      <td>6.000000e+10</td>\n",
       "      <td>1.500000e+11</td>\n",
       "      <td>1.000000e-09</td>\n",
       "      <td>1.000000e-09</td>\n",
       "      <td>3.9</td>\n",
       "      <td>11.7</td>\n",
       "      <td>24.0</td>\n",
       "    </tr>\n",
       "  </tbody>\n",
       "</table>\n",
       "</div>"
      ],
      "text/plain": [
       "         L_z_SC        L_z_DE        L_z_FE           L_x           L_y  \\\n",
       "0  1.000000e-08  1.000000e-09  2.000000e-09  3.200000e-08  3.200000e-08   \n",
       "1  1.000000e-08  1.000000e-09  2.500000e-09  3.200000e-08  3.200000e-08   \n",
       "2  1.000000e-08  1.000000e-09  3.000000e-09  3.200000e-08  3.200000e-08   \n",
       "3  1.000000e-08  1.000000e-09  3.500000e-09  3.200000e-08  3.200000e-08   \n",
       "4  1.000000e-08  1.000000e-09  4.000000e-09  3.200000e-08  3.200000e-08   \n",
       "5  1.000000e-08  1.000000e-09  4.500000e-09  3.200000e-08  3.200000e-08   \n",
       "6  1.000000e-08  1.000000e-09  5.000000e-09  3.200000e-08  3.200000e-08   \n",
       "\n",
       "          alpha          beta         gamma           g11           g44  \\\n",
       "0 -2.500000e+09  6.000000e+10  1.500000e+11  1.000000e-09  1.000000e-09   \n",
       "1 -2.500000e+09  6.000000e+10  1.500000e+11  1.000000e-09  1.000000e-09   \n",
       "2 -2.500000e+09  6.000000e+10  1.500000e+11  1.000000e-09  1.000000e-09   \n",
       "3 -2.500000e+09  6.000000e+10  1.500000e+11  1.000000e-09  1.000000e-09   \n",
       "4 -2.500000e+09  6.000000e+10  1.500000e+11  1.000000e-09  1.000000e-09   \n",
       "5 -2.500000e+09  6.000000e+10  1.500000e+11  1.000000e-09  1.000000e-09   \n",
       "6 -2.500000e+09  6.000000e+10  1.500000e+11  1.000000e-09  1.000000e-09   \n",
       "\n",
       "   epsilon_de  epsilon_si  epsilonZ_fe  \n",
       "0         3.9        11.7         24.0  \n",
       "1         3.9        11.7         24.0  \n",
       "2         3.9        11.7         24.0  \n",
       "3         3.9        11.7         24.0  \n",
       "4         3.9        11.7         24.0  \n",
       "5         3.9        11.7         24.0  \n",
       "6         3.9        11.7         24.0  "
      ]
     },
     "execution_count": 10,
     "metadata": {},
     "output_type": "execute_result"
    }
   ],
   "source": [
    "design_params"
   ]
  },
  {
   "cell_type": "code",
   "execution_count": 11,
   "id": "e3b422ea-35ce-4951-be6e-edf8720affef",
   "metadata": {},
   "outputs": [],
   "source": [
    "# Train initial Gaussian Process (GP) model\n",
    "\n",
    "from sklearn.preprocessing import MaxAbsScaler\n",
    "import scipy.stats as st\n",
    "import sklearn.gaussian_process as gp\n",
    "\n",
    "\n",
    "\n",
    "X_train = design_params.values\n",
    "y_train = np.max(dPhiS_dVapp, axis=1)\n",
    "\n",
    "#.fit(X_train)\n",
    "\n",
    "scaler = MaxAbsScaler()\n",
    "kernel = gp.kernels.ConstantKernel(1.0, (1e-5, 1e5)) * gp.kernels.RBF(1.0, (1e-3, 1e3))\n",
    "model = gp.GaussianProcessRegressor(kernel=kernel, \n",
    "                                    optimizer='fmin_l_bfgs_b',\n",
    "                                    n_restarts_optimizer=30, \n",
    "                                    alpha=1e-10, \n",
    "                                    normalize_y=True)"
   ]
  },
  {
   "cell_type": "code",
   "execution_count": 12,
   "id": "f3c36c2f-d019-4342-8dae-373562113afc",
   "metadata": {},
   "outputs": [
    {
     "name": "stderr",
     "output_type": "stream",
     "text": [
      "/pscratch/sd/a/ajtritt/.conda/envs/bml/lib/python3.11/site-packages/sklearn/gaussian_process/kernels.py:420: ConvergenceWarning: The optimal value found for dimension 0 of parameter k2__length_scale is close to the specified lower bound 0.001. Decreasing the bound and calling fit again may find a better value.\n",
      "  warnings.warn(\n"
     ]
    },
    {
     "data": {
      "text/html": [
       "<style>#sk-container-id-1 {color: black;background-color: white;}#sk-container-id-1 pre{padding: 0;}#sk-container-id-1 div.sk-toggleable {background-color: white;}#sk-container-id-1 label.sk-toggleable__label {cursor: pointer;display: block;width: 100%;margin-bottom: 0;padding: 0.3em;box-sizing: border-box;text-align: center;}#sk-container-id-1 label.sk-toggleable__label-arrow:before {content: \"▸\";float: left;margin-right: 0.25em;color: #696969;}#sk-container-id-1 label.sk-toggleable__label-arrow:hover:before {color: black;}#sk-container-id-1 div.sk-estimator:hover label.sk-toggleable__label-arrow:before {color: black;}#sk-container-id-1 div.sk-toggleable__content {max-height: 0;max-width: 0;overflow: hidden;text-align: left;background-color: #f0f8ff;}#sk-container-id-1 div.sk-toggleable__content pre {margin: 0.2em;color: black;border-radius: 0.25em;background-color: #f0f8ff;}#sk-container-id-1 input.sk-toggleable__control:checked~div.sk-toggleable__content {max-height: 200px;max-width: 100%;overflow: auto;}#sk-container-id-1 input.sk-toggleable__control:checked~label.sk-toggleable__label-arrow:before {content: \"▾\";}#sk-container-id-1 div.sk-estimator input.sk-toggleable__control:checked~label.sk-toggleable__label {background-color: #d4ebff;}#sk-container-id-1 div.sk-label input.sk-toggleable__control:checked~label.sk-toggleable__label {background-color: #d4ebff;}#sk-container-id-1 input.sk-hidden--visually {border: 0;clip: rect(1px 1px 1px 1px);clip: rect(1px, 1px, 1px, 1px);height: 1px;margin: -1px;overflow: hidden;padding: 0;position: absolute;width: 1px;}#sk-container-id-1 div.sk-estimator {font-family: monospace;background-color: #f0f8ff;border: 1px dotted black;border-radius: 0.25em;box-sizing: border-box;margin-bottom: 0.5em;}#sk-container-id-1 div.sk-estimator:hover {background-color: #d4ebff;}#sk-container-id-1 div.sk-parallel-item::after {content: \"\";width: 100%;border-bottom: 1px solid gray;flex-grow: 1;}#sk-container-id-1 div.sk-label:hover label.sk-toggleable__label {background-color: #d4ebff;}#sk-container-id-1 div.sk-serial::before {content: \"\";position: absolute;border-left: 1px solid gray;box-sizing: border-box;top: 0;bottom: 0;left: 50%;z-index: 0;}#sk-container-id-1 div.sk-serial {display: flex;flex-direction: column;align-items: center;background-color: white;padding-right: 0.2em;padding-left: 0.2em;position: relative;}#sk-container-id-1 div.sk-item {position: relative;z-index: 1;}#sk-container-id-1 div.sk-parallel {display: flex;align-items: stretch;justify-content: center;background-color: white;position: relative;}#sk-container-id-1 div.sk-item::before, #sk-container-id-1 div.sk-parallel-item::before {content: \"\";position: absolute;border-left: 1px solid gray;box-sizing: border-box;top: 0;bottom: 0;left: 50%;z-index: -1;}#sk-container-id-1 div.sk-parallel-item {display: flex;flex-direction: column;z-index: 1;position: relative;background-color: white;}#sk-container-id-1 div.sk-parallel-item:first-child::after {align-self: flex-end;width: 50%;}#sk-container-id-1 div.sk-parallel-item:last-child::after {align-self: flex-start;width: 50%;}#sk-container-id-1 div.sk-parallel-item:only-child::after {width: 0;}#sk-container-id-1 div.sk-dashed-wrapped {border: 1px dashed gray;margin: 0 0.4em 0.5em 0.4em;box-sizing: border-box;padding-bottom: 0.4em;background-color: white;}#sk-container-id-1 div.sk-label label {font-family: monospace;font-weight: bold;display: inline-block;line-height: 1.2em;}#sk-container-id-1 div.sk-label-container {text-align: center;}#sk-container-id-1 div.sk-container {/* jupyter's `normalize.less` sets `[hidden] { display: none; }` but bootstrap.min.css set `[hidden] { display: none !important; }` so we also need the `!important` here to be able to override the default hidden behavior on the sphinx rendered scikit-learn.org. See: https://github.com/scikit-learn/scikit-learn/issues/21755 */display: inline-block !important;position: relative;}#sk-container-id-1 div.sk-text-repr-fallback {display: none;}</style><div id=\"sk-container-id-1\" class=\"sk-top-container\"><div class=\"sk-text-repr-fallback\"><pre>GaussianProcessRegressor(kernel=1**2 * RBF(length_scale=1),\n",
       "                         n_restarts_optimizer=30, normalize_y=True)</pre><b>In a Jupyter environment, please rerun this cell to show the HTML representation or trust the notebook. <br />On GitHub, the HTML representation is unable to render, please try loading this page with nbviewer.org.</b></div><div class=\"sk-container\" hidden><div class=\"sk-item\"><div class=\"sk-estimator sk-toggleable\"><input class=\"sk-toggleable__control sk-hidden--visually\" id=\"sk-estimator-id-1\" type=\"checkbox\" checked><label for=\"sk-estimator-id-1\" class=\"sk-toggleable__label sk-toggleable__label-arrow\">GaussianProcessRegressor</label><div class=\"sk-toggleable__content\"><pre>GaussianProcessRegressor(kernel=1**2 * RBF(length_scale=1),\n",
       "                         n_restarts_optimizer=30, normalize_y=True)</pre></div></div></div></div></div>"
      ],
      "text/plain": [
       "GaussianProcessRegressor(kernel=1**2 * RBF(length_scale=1),\n",
       "                         n_restarts_optimizer=30, normalize_y=True)"
      ]
     },
     "execution_count": 12,
     "metadata": {},
     "output_type": "execute_result"
    }
   ],
   "source": [
    "model.fit(scaler.transform(X_train), y_train)"
   ]
  },
  {
   "cell_type": "code",
   "execution_count": 13,
   "id": "b56c6a66-297a-4eb9-bd5c-8c9b727eb4a3",
   "metadata": {},
   "outputs": [],
   "source": [
    "bounds = np.array([X_train.min(axis=0), X_train.max(axis=0)]).T\n",
    "candidates = np.array([np.random.uniform(low=bounds[:, 0], high=bounds[:, 1]) for _ in range(10)])"
   ]
  },
  {
   "cell_type": "code",
   "execution_count": 14,
   "id": "50ef6441-d855-4bfe-baf3-4bcc5fc64ddf",
   "metadata": {},
   "outputs": [],
   "source": [
    "# GP prediction\n",
    "y_pred, pred_std = model.predict(scaler.transform(candidates), return_std=True)"
   ]
  },
  {
   "cell_type": "code",
   "execution_count": 15,
   "id": "5e524651-5a32-4147-b376-b386950eac6f",
   "metadata": {},
   "outputs": [],
   "source": [
    "# Expected Improvement-based active learning function\n",
    "def EI_learning(candidates, y_pred, pred_std):\n",
    "    \"\"\"Active learning function based on expected improvement\n",
    "       \n",
    "       This function selects a new sample from candidate pool to enrich the current training dataset.\n",
    "       The sample gets selected if it has the maximum expected improvement value.\n",
    "       \n",
    "       Input: \n",
    "       - candidates: pool of candidates to select sample from\n",
    "       - y_pred: GP predictions on candidate samples\n",
    "       - pred_std: Standard deviation of the GP predictions on candidate samples\n",
    "       \n",
    "       Output:\n",
    "       - new_sample: the selected sample with the maximum expected improvement value\n",
    "       - EI: EI values of the candidate samples\n",
    "    \"\"\"\n",
    "    \n",
    "    # 1-Find the current minimum\n",
    "    current_objective = y_pred[np.argmin(y_pred)]\n",
    "    \n",
    "    # 2-Calculate the EI values of the candidate samples\n",
    "    pred_std = pred_std.reshape(pred_std.shape[0])\n",
    "    \n",
    "    cdf = st.norm.cdf((current_objective-y_pred)/pred_std)\n",
    "    dev = (current_objective - y_pred)\n",
    "    pdf = st.norm.pdf((current_objective-y_pred)/pred_std)\n",
    "    \n",
    "    EI =  dev * cdf + pred_std * pdf \n",
    "    \n",
    "    # 3-Select a new sample\n",
    "    new_sample = candidates[np.argmax(EI)]\n",
    "    \n",
    "    return new_sample"
   ]
  },
  {
   "cell_type": "code",
   "execution_count": 43,
   "id": "712a0166-b33f-4a83-9b8b-78e58748a0b9",
   "metadata": {},
   "outputs": [
    {
     "name": "stdout",
     "output_type": "stream",
     "text": [
      "n_cell = 64 64 32\n",
      "max_grid_size = 64\n",
      "prob_type = 2\n",
      "P_BC_flag_lo = 0\n",
      "P_BC_flag_hi = 1\n",
      "Phi_Bc_lo = 0.0\n",
      "Phi_Bc_hi = 0.0\n",
      "nsteps = 20000\n",
      "plot_int = 1000\n",
      "Phi_Bc_inc = 0.1\n",
      "inc_step = 2000\n",
      "inc_step_sign_change = 22000\n",
      "TimeIntegratorOrder = 1\n",
      "dt = 2e-13\n",
      "prob_lo = -1.6e-08 -1.6e-08 0.0\n",
      "prob_hi = 1.6e-08 1.6e-08 1.39e-08\n",
      "epsilon_0 = 8.85e-12\n",
      "epsilonX_fe = 24\n",
      "epsilonZ_fe = 24\n",
      "epsilon_de = 3.9\n",
      "epsilon_si = 11.7\n",
      "alpha = -2.5e+09\n",
      "beta = 6e+10\n",
      "gamma = 1.5e+11\n",
      "BigGamma = 100\n",
      "g11 = 1e-09\n",
      "g44 = 1e-09\n",
      "g44_p = 0.0\n",
      "g12 = 0.0\n",
      "alpha_12 = 0.0\n",
      "alpha_112 = 0.0\n",
      "alpha_123 = 0.0\n",
      "SC_lo = 0.0\n",
      "SC_hi = 1e-08\n",
      "DE_lo = 1e-08\n",
      "DE_hi = 1.1e-08\n",
      "FE_lo = 1.1e-08\n",
      "FE_hi = 1.39e-08\n",
      "lambda = 3e-09\n"
     ]
    }
   ],
   "source": [
    "inputs_tmpl.update(new_inputs(dict(zip(design_params.columns, EI_learning(candidates, y_pred, pred_std)))))\n",
    "for k in inputs_tmpl:\n",
    "    print(f\"{k} = {fmt_param(inputs_tmpl[k])}\")"
   ]
  },
  {
   "cell_type": "code",
   "execution_count": 18,
   "id": "48168450-0358-431e-98af-d1358d755004",
   "metadata": {},
   "outputs": [
    {
     "data": {
      "text/plain": [
       "numpy.float64"
      ]
     },
     "execution_count": 18,
     "metadata": {},
     "output_type": "execute_result"
    }
   ],
   "source": [
    "type(inputs_tmpl['SC_hi']"
   ]
  },
  {
   "cell_type": "code",
   "execution_count": 34,
   "id": "a28509b4-8e10-4bd3-ab84-0e601f8e3b39",
   "metadata": {},
   "outputs": [
    {
     "data": {
      "text/plain": [
       "'1.6e-08 1.6e-08 1.39e-08'"
      ]
     },
     "execution_count": 34,
     "metadata": {},
     "output_type": "execute_result"
    }
   ],
   "source": [
    "def fmt_param(param):\n",
    "    if isinstance(param, list):\n",
    "        return \" \".join(fmt_param(_) for _ in param)\n",
    "    elif isinstance(param, (int, np.int64)):\n",
    "        return str(param)\n",
    "    elif isinstance(param, (float, np.float64)):\n",
    "        if param == 0.0:\n",
    "            return '0.0'\n",
    "        return f'{param:0.3g}'\n",
    "\n",
    "fmt_param(inputs_tmpl['prob_hi'])"
   ]
  },
  {
   "cell_type": "code",
   "execution_count": 35,
   "id": "ba622ab2-940c-4e71-8961-3cb3d3fd19c1",
   "metadata": {},
   "outputs": [
    {
     "name": "stdout",
     "output_type": "stream",
     "text": [
      "n_cell = 64 64 32\n",
      "max_grid_size = 64\n",
      "prob_type = 2\n",
      "P_BC_flag_lo = 0\n",
      "P_BC_flag_hi = 1\n",
      "Phi_Bc_lo = 0.0\n",
      "Phi_Bc_hi = 0.0\n",
      "nsteps = 20000\n",
      "plot_int = 1000\n",
      "Phi_Bc_inc = 0.1\n",
      "inc_step = 2000\n",
      "inc_step_sign_change = 22000\n",
      "TimeIntegratorOrder = 1\n",
      "dt = 2e-13\n",
      "prob_lo = -1.6e-08 -1.6e-08 0.0\n",
      "prob_hi = 1.6e-08 1.6e-08 1.39e-08\n",
      "epsilon_0 = 8.85e-12\n",
      "epsilonX_fe = 24\n",
      "epsilonZ_fe = 24\n",
      "epsilon_de = 3.9\n",
      "epsilon_si = 11.7\n",
      "alpha = -2.5e+09\n",
      "beta = 6e+10\n",
      "gamma = 1.5e+11\n",
      "BigGamma = 100\n",
      "g11 = 1e-09\n",
      "g44 = 1e-09\n",
      "g44_p = 0.0\n",
      "g12 = 0.0\n",
      "alpha_12 = 0.0\n",
      "alpha_112 = 0.0\n",
      "alpha_123 = 0.0\n",
      "SC_lo = 0.0\n",
      "SC_hi = 1e-08\n",
      "DE_lo = 1e-08\n",
      "DE_hi = 1.1e-08\n",
      "FE_lo = 1.1e-08\n",
      "FE_hi = 1.39e-08\n",
      "lambda = 3e-09\n"
     ]
    }
   ],
   "source": [
    "for k in inputs_tmpl:\n",
    "    print(f\"{k} = {fmt_param(inputs_tmpl[k])}\")"
   ]
  },
  {
   "cell_type": "code",
   "execution_count": 41,
   "id": "75083ea6-9c4a-436a-a8c8-9a2d91b6e82c",
   "metadata": {},
   "outputs": [
    {
     "data": {
      "text/plain": [
       "'24.0'"
      ]
     },
     "execution_count": 41,
     "metadata": {},
     "output_type": "execute_result"
    }
   ],
   "source": [
    "eps = inputs_tmpl['epsilonX_fe']\n",
    "f'{eps:0.1f}'"
   ]
  },
  {
   "cell_type": "code",
   "execution_count": null,
   "id": "635a3ec9-be1f-4196-8017-b97201b3a3cd",
   "metadata": {},
   "outputs": [],
   "source": []
  }
 ],
 "metadata": {
  "kernelspec": {
   "display_name": "bml",
   "language": "python",
   "name": "bml"
  },
  "language_info": {
   "codemirror_mode": {
    "name": "ipython",
    "version": 3
   },
   "file_extension": ".py",
   "mimetype": "text/x-python",
   "name": "python",
   "nbconvert_exporter": "python",
   "pygments_lexer": "ipython3",
   "version": "3.11.0"
  }
 },
 "nbformat": 4,
 "nbformat_minor": 5
}
