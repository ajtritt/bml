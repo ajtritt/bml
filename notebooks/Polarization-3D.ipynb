{
 "cells": [
  {
   "cell_type": "code",
   "execution_count": 1,
   "id": "0b02c22f-eee2-40f8-b8a5-3cf6da0bb066",
   "metadata": {},
   "outputs": [],
   "source": [
    "import glob\n",
    "\n",
    "import matplotlib.pyplot as plt\n",
    "import numpy as np\n",
    "import yt\n",
    "import os"
   ]
  },
  {
   "cell_type": "markdown",
   "id": "c3cdc1d1-72af-443c-aaab-da03b00b0571",
   "metadata": {},
   "source": [
    "dz = 0.5 nm\n",
    "dielectric is always 4nm. \n",
    "\n",
    "check `domain_right_edge` for total thickness and ferroelectric thickness to determine dielectric boundary"
   ]
  },
  {
   "cell_type": "code",
   "execution_count": 25,
   "id": "2679f59a-da31-47a7-a74c-dd322a3a034e",
   "metadata": {},
   "outputs": [
    {
     "name": "stderr",
     "output_type": "stream",
     "text": [
      "yt : [INFO     ] 2023-02-13 16:40:55,021 Parameters: current_time              = 1.1999999999999762e-09\n",
      "yt : [INFO     ] 2023-02-13 16:40:55,022 Parameters: domain_dimensions         = [64 64 18]\n",
      "yt : [INFO     ] 2023-02-13 16:40:55,023 Parameters: domain_left_edge          = [-1.6e-08 -1.6e-08  0.0e+00]\n",
      "yt : [INFO     ] 2023-02-13 16:40:55,024 Parameters: domain_right_edge         = [1.6e-08 1.6e-08 9.0e-09]\n"
     ]
    }
   ],
   "source": [
    "ds = yt.load(f\"{os.environ['SCRATCH']}/bml/3D_double_hyst/plt00003000/\")"
   ]
  },
  {
   "cell_type": "code",
   "execution_count": 40,
   "id": "71743de4-7dee-4d8c-9115-0da9fd2a6df3",
   "metadata": {},
   "outputs": [],
   "source": [
    "ad = ds.all_data()\n",
    "#P = ad['boxlib', 'P'].to_ndarray().reshape(ds.domain_dimensions)\n",
    "P = ad['boxlib', 'P'].to_ndarray().reshape((64, 64, 18))"
   ]
  },
  {
   "cell_type": "code",
   "execution_count": 41,
   "id": "974df79b-1755-4637-a16a-381a7236a488",
   "metadata": {},
   "outputs": [
    {
     "data": {
      "text/plain": [
       "<matplotlib.image.AxesImage at 0x14eb02933a50>"
      ]
     },
     "execution_count": 41,
     "metadata": {},
     "output_type": "execute_result"
    },
    {
     "data": {
      "image/png": "[encoded data removed]",
      "text/plain": [
       "<Figure size 640x480 with 1 Axes>"
      ]
     },
     "metadata": {},
     "output_type": "display_data"
    }
   ],
   "source": [
    "plt.imshow(P[:, :, 10], cmap='seismic', origin='lower')"
   ]
  },
  {
   "cell_type": "code",
   "execution_count": null,
   "id": "b52ad142-bb28-498d-85b6-13f5d987eb74",
   "metadata": {
    "tags": []
   },
   "outputs": [],
   "source": [
    "data_dir = f\"{os.environ['SCRATCH']}/bml/pm5V\"\n",
    "Pzs_tmp = list()\n",
    "names = list()\n",
    "\n",
    "for i in sorted(glob.glob(f\"{data_dir}/5.0nm/plt*/\")):\n",
    "    ds = yt.load(i)\n",
    "    name = i[i.find('plt')+3:-1]\n",
    "    names.append(name)\n",
    "    ad = ds.all_data()\n",
    "    Pz = ad['boxlib', 'Pz'].to_ndarray().reshape(ds.domain_dimensions)\n",
    "    Pzs_tmp.append(Pz[:, 0, 8:])\n",
    "    "
   ]
  },
  {
   "cell_type": "code",
   "execution_count": null,
   "id": "220e87ff-4c85-452d-855c-fa2c1e6ce8da",
   "metadata": {},
   "outputs": [],
   "source": [
    "fig, axes = plt.subplots(7, 6, figsize=(20, 10), sharex=True, sharey=True)\n",
    "\n",
    "for Pz, ax, name in zip(Pzs_tmp, axes.ravel(), names):\n",
    "    plot_Pz(Pz, ax=ax, name=name)\n",
    "\n",
    "plt.tight_layout()\n",
    "#plt.savefig('test_viz.10nm.png')"
   ]
  },
  {
   "cell_type": "code",
   "execution_count": null,
   "id": "4ad6c90b-f274-4c44-9c48-2ac3a9ee02c1",
   "metadata": {},
   "outputs": [],
   "source": [
    "Pzs[18].shape"
   ]
  },
  {
   "cell_type": "code",
   "execution_count": null,
   "id": "553838b4-98d9-4c87-8a22-9427776faa40",
   "metadata": {},
   "outputs": [],
   "source": [
    "fig, axes = plt.subplots(7, 6, figsize=(20, 10), sharex=True, sharey=True)\n",
    "\n",
    "for Pz, ax, name in zip(Pzs[18], axes.ravel(), names):\n",
    "    plot_Pz(Pz, ax=ax, name=name)\n",
    "\n",
    "plt.tight_layout()\n",
    "#plt.savefig('test_viz.10nm.png')"
   ]
  },
  {
   "cell_type": "code",
   "execution_count": null,
   "id": "b30550c0-d035-467e-b4d2-065910469fef",
   "metadata": {},
   "outputs": [],
   "source": [
    "fig, axes = plt.subplots(7, 6, figsize=(20, 10), sharex=True, sharey=True)\n",
    "\n",
    "for Pz, ax, name in zip(Pzs[8], axes.ravel(), names):\n",
    "    plot_Pz(Pz, ax=ax, name=name)\n",
    "\n",
    "plt.tight_layout()\n",
    "#plt.savefig('test_viz.10nm.png')"
   ]
  },
  {
   "cell_type": "code",
   "execution_count": null,
   "id": "02ff9be3-1fb7-446a-85cb-5df0735f55cd",
   "metadata": {},
   "outputs": [],
   "source": [
    "fig, axes = plt.subplots(7, 6, figsize=(20, 10), sharex=True)\n",
    "\n",
    "Pvar = list()\n",
    "for Pz, ax, name in zip(Pzs, axes.ravel(), names):\n",
    "    Pz = Pz.ravel()\n",
    "    ax.hist(Pz, bins=30)\n",
    "    Pvar.append(Pz.var())\n",
    "    ax.set_title('Var = %.4g, $log(Var)$ = %.4g' % (Pvar[-1], np.log10(Pvar[-1])))\n",
    "Pvar = np.array(Pvar)\n",
    "plt.tight_layout()\n",
    "#plt.savefig('test_viz.5nm.png')"
   ]
  },
  {
   "cell_type": "code",
   "execution_count": null,
   "id": "19c37b9c-ad39-4ba6-ba31-e82faf24e84d",
   "metadata": {},
   "outputs": [],
   "source": [
    "fig, axes = plt.subplots(7, 6, figsize=(20, 10))\n",
    "\n",
    "Pvar = list()\n",
    "for Pz, ax, name in zip(Pzs, axes.ravel(), names):\n",
    "    Pz = Pz.ravel()\n",
    "    ax.hist(Pz, bins=30)\n",
    "    Pvar.append(Pz.var())\n",
    "    ax.set_title(f'Var = {Pvar[-1]:.4g}')\n",
    "Pvar = np.array(Pvar)\n",
    "plt.tight_layout()\n",
    "#plt.savefig('test_viz.5nm.png')"
   ]
  },
  {
   "cell_type": "code",
   "execution_count": null,
   "id": "f3882e27-f5df-49af-98e1-e2c51a27d9c9",
   "metadata": {},
   "outputs": [],
   "source": [
    "plt.plot(Pvar)"
   ]
  },
  {
   "cell_type": "code",
   "execution_count": null,
   "id": "9af09a5e-61a1-4f90-833d-de2b5ce52ea5",
   "metadata": {},
   "outputs": [],
   "source": [
    "data_dir = f\"{os.environ['SCRATCH']}/bml/pm5V\"\n",
    "Pzs = list()\n",
    "names = list()\n",
    "for i in sorted(glob.glob(\"{dat_dir}/5.0nm/plt*/\")):\n",
    "    ds = yt.load(i)\n",
    "    name = i[i.find('plt')+3:-1]\n",
    "    names.append(name)\n",
    "    ad = ds.all_data()\n",
    "    Pz = ad['boxlib', 'Pz'].to_ndarray().reshape(ds.domain_dimensions)\n",
    "    Pzs.append(Pz[:, 0, 8:])\n",
    "    "
   ]
  },
  {
   "cell_type": "code",
   "execution_count": null,
   "id": "b3c9f079-5e69-4978-aeb8-8b8a0fd090fe",
   "metadata": {},
   "outputs": [],
   "source": []
  }
 ],
 "metadata": {
  "kernelspec": {
   "display_name": "NERSC Python",
   "language": "python",
   "name": "python3"
  },
  "language_info": {
   "codemirror_mode": {
    "name": "ipython",
    "version": 3
   },
   "file_extension": ".py",
   "mimetype": "text/x-python",
   "name": "python",
   "nbconvert_exporter": "python",
   "pygments_lexer": "ipython3",
   "version": "3.9.7"
  }
 },
 "nbformat": 4,
 "nbformat_minor": 5
}
